{
 "cells": [
  {
   "cell_type": "code",
   "execution_count": 1,
   "metadata": {},
   "outputs": [
    {
     "name": "stdout",
     "output_type": "stream",
     "text": [
      "2024-05-23 01:21:03,586 - INFO - Initializing env vars...\n",
      "2024-05-23 01:21:03,586 - INFO - Loading environment variables from: .env\n"
     ]
    },
    {
     "name": "stderr",
     "output_type": "stream",
     "text": [
      "/home/daniel/.cache/pypoetry/virtualenvs/streaming-pipeline-fcAEtgtX-py3.10/lib/python3.10/site-packages/datasets/load.py:1486: FutureWarning: The repository for wikipedia contains custom code which must be executed to correctly load the dataset. You can inspect the repository content at https://hf.co/datasets/wikipedia\n",
      "You can avoid this message in future by passing the argument `trust_remote_code=True`.\n",
      "Passing `trust_remote_code=True` will be mandatory to load this dataset from the next major release of `datasets`.\n",
      "  warnings.warn(\n"
     ]
    },
    {
     "name": "stdout",
     "output_type": "stream",
     "text": [
      "{'id': '1', 'url': 'https://simple.wikipedia.org/wiki/April', 'title': 'April', 'text': 'April is the fourth month of the year in the Julian and Gregorian calendars, and comes between March and May. It is one of four months to have 30 days.\\n\\nApril always begins on the same day of week as July, and additionally, January in leap years. April always ends on the same day of the week as December.\\n\\nApril\\'s flowers are the Sweet Pea and Daisy. Its birthstone is the diamond. The meaning of the diamond is innocence.\\n\\nThe Month \\n\\nApril comes between March and May, making it the fourth month of the year. It also comes first in the year out of the four months that have 30 days, as June, September and November are later in the year.\\n\\nApril begins on the same day of the week as July every year and on the same day of the week as January in leap years. April ends on the same day of the week as December every year, as each other\\'s last days are exactly 35 weeks (245 days) apart.\\n\\nIn common years, April starts on the same day of the week as October of the previous year, and in leap years, May of the previous year. In common years, April finishes on the same day of the week as July of the previous year, and in leap years, February and October of the previous year. In common years immediately after other common years, April starts on the same day of the week as January of the previous year, and in leap years and years immediately after that, April finishes on the same day of the week as January of the previous year.\\n\\nIn years immediately before common years, April starts on the same day of the week as September and December of the following year, and in years immediately before leap years, June of the following year. In years immediately before common years, April finishes on the same day of the week as September of the following year, and in years immediately before leap years, March and June of the following year.\\n\\nApril is a spring month in the Northern Hemisphere and an autumn/fall month in the Southern Hemisphere. In each hemisphere, it is the seasonal equivalent of October in the other.\\n\\nIt is unclear as to where April got its name. A common theory is that it comes from the Latin word \"aperire\", meaning \"to open\", referring to flowers opening in spring. Another theory is that the name could come from Aphrodite, the Greek goddess of love. It was originally the second month in the old Roman Calendar, before the start of the new year was put to January 1.\\n\\nQuite a few festivals are held in this month. In many Southeast Asian cultures, new year is celebrated in this month (including Songkran). In Western Christianity, Easter can be celebrated on a Sunday between March 22 and April 25. In Orthodox Christianity, it can fall between April 4 and May 8. At the end of the month, Central and Northern European cultures celebrate Walpurgis Night on April 30, marking the transition from winter into summer.\\n\\nApril in poetry \\nPoets use April to mean the end of winter. For example: April showers bring May flowers.\\n\\nEvents in April\\n\\nFixed Events \\n\\n April 1 - April Fools\\' Day\\n April 1 - Islamic Republic Day (Iran)\\n April 2 - International Children\\'s Book Day\\n April 2 - Thai Heritage and Conservation Day\\n April 2 - World Autism Awareness Day\\n April 2 - Malvinas Day (Argentina)\\n April 4 - Independence Day (Senegal)\\n April 4 - International Day for Landmine Awareness and Assistance\\n April 4 - Peace Day (Angola)\\n April 5 - End of Tax Year (United Kingdom)\\n April 6 - Tartan Day (Canada and United States)\\n April 6 - Chakri Day (Thailand)\\n April 7 - Day of Maternity and Beauty (Armenia)\\n April 7 - Genocide Memorial Day (Rwanda)\\n April 7 - World Health Day\\n April 7 - Women\\'s Day (Mozambique)\\n April 8 - Buddha\\'s Birthday (Buddhism)\\n April 9 - Martyrs\\' Day (Tunisia)\\n April 9 - Day of National Unity (Georgia)\\n April 9 - Day of the Finnish language\\n April 12 - Cosmonauts\\' Day (Russia), marking the day of Yuri Gagarin\\'s space flight\\n April 13 - Songkan (Laos), local New Year celebration\\n April 13 - Cambodian New Year\\n April 13 - Thomas Jefferson\\'s Birthday (United States)\\n April 14 - Southeast Asian New Year festivals, including Songkran\\n April 14 - Georgian language Day\\n April 14 - Youth Day (Angola)\\n April 14 - Ambedkar Tayanti (India)\\n April 14 - Pan-American Day\\n April 15 - Tax Day (United States)\\n April 15 - Kim Il-Sung\\'s Birthday (North Korea)\\n April 15 - Father Damien Day (Hawaii)\\n April 15 - Jackie Robinson Day (Major League Baseball)\\n April 16 - Birthday of Queen Margrethe II of Denmark\\n April 16 - Emancipation Day (Washington, DC)\\n April 16 - World Voice Day\\n April 16 - Selena Day (Texas)\\n April 17 - National Day of Syria\\n April 17 - Flag Day (American Samoa)\\n April 17 - Women\\'s Day (Gabon)\\n April 17 - World Hemophilia Day\\n April 18 - Independence Day (Zimbabwe)\\n April 18 - Invention Day (Japan)\\n April 18 - International Day of Monuments and Sites\\n April 19 - Bicycle Day\\n April 19 - Dutch-American Friendship Day\\n April 19 - Birthday of King Mswati III of Swaziland\\n April 19 - Patriots\\' Day (Massachusetts, Maine, Wisconsin)\\n April 20 - 4/20 in Cannabis Culture\\n April 21 - John Muir Day (California)\\n April 21 - San Jacinto Day (Texas)\\n April 21 - Kartini Day (Indonesia)\\n April 21 - National Tree Planting Day (Kenya)\\n April 21 - First Day of Ridran (Baha\\'i faith)\\n April 21 - Grounation Day (Rastafari movement)\\n April 22 - Earth Day\\n April 22 - Discovery Day (Brazil)\\n April 23 - Saint George\\'s Day, celebrating the patron saint of several countries, regions and cities (including England and Catalonia)\\n April 23 - World Book Day\\n April 23 - National Sovereignty and Children\\'s Day (Turkey)\\n April 24 - Democracy Day (Nepal)\\n April 24 - Genocide Day (Armenia)\\n April 24 - Republic Day (the Gambia)\\n April 25 - Australia and New Zealand celebrate ANZAC Day. ANZAC  means Australian and New Zealand Army Corps, and began in 1915.\\n April 25 - World DNA Day\\n April 25 - World Malaria Day\\n April 25 - Flag Day (Swaziland, Faroe Islands)\\n April 25 - Freedom Day (Portugal)\\n April 25 - Liberation Day (Italy)\\n April 25 - Army Day (North Korea)\\n April 26 - Union Day (Tanzania)\\n April 26 - Confederate Memorial Day (Texas, Florida)\\n April 27 - Independence Day (Sierra Leone and Togo)\\n April 27 - Freedom Day (South Africa)\\n April 27 - World Tapir Day\\n April 27 - King\\'s Day (Netherlands) from 2014, birthday of Willem-Alexander of the Netherlands\\n April 28 - Workers Memorial Day\\n April 28 - National Day (Sardinia)\\n April 28 - National Heroes Day (Barbados)\\n April 29 - Showa Day (Japan), birthday of Emperor Hirohito, who died in 1989\\n April 29 - International Dance Day\\n April 30 - Former Queen\\'s Day Holiday in the Netherlands (changed to King\\'s Day, April 27 in 2014), was the birthday of former Queen Juliana of the Netherlands\\n April 30 - Flag Day in Sweden (birthday of King Carl XVI Gustaf of Sweden)\\n April 30 - International Jazz Day\\n April 30 - Walpurgis Night (Central and Northern Europe)\\n\\nMoveable Events \\n\\n Easter-related events in Western Christianity:\\n Palm Sunday (between March 15 and April 18)\\n Maundy Thursday (between March 19 and April 22)\\n Good Friday (between March 20 and April 23)\\n Easter Sunday (between March 22 and April 25)\\n Easter Monday (between March 23 and April 26)\\n Eastern Orthodox Easter falls between April 4 and May 8.\\n Ascension Day (Western Christianity), falls between April 30 and June 3.\\n Jewish Passover - falls in the same week as Western Christianity\\'s Holy Week, which is the week leading up to Easter.\\n Mother\\'s Day (UK) falls between March 1 and April 4.\\n World Snooker Championship (late April, early May)\\n Horse racing - Grand National (UK), Kentucky Derby (United States)\\n Start of Daylight Saving Time - Clocks going forward one hour:\\n Most of Mexico\\n Morocco (Ramadan does not include Daylight Saving Time)\\n End of Daylight Saving Time - Clocks going back one hour:\\n Southeast Australia, and New Zealand\\n Chile\\n Marathon Events in the following cities:\\n Belgrade, Serbia\\n Boston, Massachusetts, United States\\n Brighton, United Kingdom\\n Enschede, Netherlands\\n London, United Kingdom\\n Madrid, Spain\\n Paris, France\\n Rotterdam, Netherlands\\n Utrecht, Netherlands\\n Zurich, Switzerland\\n\\nSelection of Historical Events \\n\\n April 1, 1918 - The Royal Air Force is founded.\\n April 1, 1976 - Apple Inc. is founded.\\n April 1, 1979 - The Islamic Republic of Iran is founded.\\n April 1, 1999 - The territory of Nunavut is created in Northern Canada.\\n April 1, 2001 - The Netherlands introduces same-sex marriage, as the first country to do so.\\n April 2, 1519 - Florida is sighted by a European for the first time.\\n April 2, 1930 - Haile Selassie becomes Emperor of Ethiopia.\\n April 2, 1982 - Start of the Falklands War, as Argentine forces land on the Falkland Islands.\\n April 2, 2005 - Pope John Paul II dies aged 84, after 26-and-a-half years as Pope.\\n April 3, 1973 - The first-ever mobile phone call is placed by Martin Cooper in New York City.\\n April 4, 1721 - Robert Walpole becomes the first Prime Minister of Great Britain.\\n April 4, 1841 - William Henry Harrison dies. He was President of the United States for 31 days, the shortest-ever time in office for a US President.\\n April 4, 1960 - Senegal becomes independent.\\n April 4, 1968 - Assassination of Martin Luther King, Jr. in Memphis, Tennessee.\\n April 5, 1722 - Jacob Roggeveen becomes the first European to land on Easter Island, landing there on Easter Sunday.\\n April 6, 1320 - Scotland\\'s independence is confirmed with the Declaration of Arbroath.\\n April 6, 1830 - The Mormon Church is founded.\\n April 6, 1909 - Robert Peary claims to have been first at the North Pole on this date.\\n April 7, 1994 - The Rwandan Genocide begins.\\n April 9, 1865 - American Civil War: Confederate forces under Robert E. Lee surrender to Union forces.\\n April 9, 1940 - World War II: Denmark and Norway are invaded by Nazi Germany.\\n April 9, 1989 - April 9 tragedy: In Tbilisi, Georgia, a peaceful demonstration for independence is broken up by the Soviet Army, killing 20 people. The country gains independence on this date exactly two years later.\\n April 10, 1815 - Mount Tambora in Indonesia erupts in a huge eruption, affecting the world\\'s climate for at least a year.\\n April 10, 2010 - A plane crash near Smolensk, Russia, kills several people who were important in Poland, including President Lech Kaczynski.\\n April 11, 1814 - Napoleon Bonaparte is exiled to the island of Elba.\\n April 11, 1954 - Said to have been the most boring day of the 20th century.\\n April 12, 1861 - The American Civil War begins at Fort Sumter, Charleston, South Carolina.\\n April 12, 1945 - US President Franklin D. Roosevelt dies, and Harry S. Truman replaces him.\\n April 12, 1961 - Yuri Gagarin becomes the first human to fly into space.\\n April 14, 1865 - US President Abraham Lincoln is shot dead at Ford\\'s Theatre by John Wilkes Booth. Lincoln dies the next day.\\n April 14, 2010 - Qinghai Province, China, is hit by an earthquake, killing tens of thousands of people.\\n April 14, 2010 - The eruption of Eyjafjallajokull in Iceland shuts down air traffic around Europe for a week, due to its ash cloud.\\n April 15, 1912 - The ship RMS Titanic sinks near Newfoundland after hitting an iceberg, resulting in the deaths of many of the people on board.\\n April 16, 1943 - Albert Hofmann discovers LSD\\'s effects.\\n April 17, 1946 - Syria gains full independence from France.\\n April 18, 1906 - 1906 San Francisco earthquake: San Francisco, California, is hit by a big earthquake, resulting in fires that destroy large parts of the city.\\n April 18, 1980 - Zimbabwe gains full independence.\\n April 19, 1897 - The first Boston Marathon is held.\\n April 19, 1971 - Sierra Leone becomes a republic.\\n April 19, 1993 - The siege of the Branch Davidians at Waco, Texas, ends in a fire that kills 82 people.\\n April 19, 1995 - Timothy McVeigh carries out the Oklahoma City bombing, killing 169 people.\\n April 19, 2005 - Joseph Alois Ratzinger becomes Pope Benedict XVI.\\n April 20, 1902 - Marie Curie and Pierre Curie refine Radium.\\n April 20, 2010 - Deepwater Horizon oil spill: A massive fire on the Deepwater Horizon drilling rig in the Gulf of Mexico kills 11 workers and causes a massive oil spill, the worst spill in US history.\\n April 21, 753 BC - Legendary founding date of Rome\\n April 21, 1509 - Henry VIII of England becomes King.\\n April 21, 1908 - Frederick Cook claims to have reached the North Pole on this date.\\n April 22, 1502 - Pedro Alvares Cabral becomes the first European to reach present-day Brazil.\\n April 22, 1970 - Earth Day is observed for the first time.\\n April 23, 1533 - The Church of England declares that Henry VIII of England and Catherine of Aragon are not married.\\n April 24, 1916 - The Easter Rising occurs in Dublin, Ireland.\\n April 24, 1990 - The Hubble Space Telescope is launched on the Space Shuttle Discovery.\\n April 25, 1915 - World War I: In Turkey, the Battle of Gallipoli begins, Australian, French, British and New Zealand forces land at Anzac cove.\\n April 25, 1974 - Portugal\\'s dictatorship is overthrown in a coup, in what is known as the Carnation Revolution.\\n April 26, 1937 - Spanish Civil War: German planes bomb the town of Guernica, Basque Country, later depicted in a painting by Pablo Picasso.\\n April 26, 1964 - Tanganyika and Zanzibar merge to form Tanzania.\\n April 26, 1986 - A reactor explosion occurs at the Chernobyl nuclear plant in present-day Ukraine, with radiation spreading around Europe and the world.\\n April 26/27, 1994 - South Africa holds its first free elections.\\n April 27, 1960 - Togo becomes independent from France.\\n April 27, 1961 - Sierra Leone becomes independent from the United Kingdom.\\n April 28, 1789 - Mutiny on the ship Bounty in the Pacific Ocean, lead by Fletcher Christian.\\n April 28, 1945 - Benito Mussolini is executed by Italian partisans.\\n April 28, 1947 - In Peru, Thor Heyerdahl starts his Kon-Tiki expedition aimed at proving his theory that the Polynesian settlers on the Pacific Ocean\\'s islands came from South America.\\n April 29, 1991 - A cyclone in Bangladesh kills an estimated 138,000 people.\\n April 29, 2011 - The wedding of Prince William, Duke of Cambridge and Catherine, Duchess of Cambridge is broadcast worldwide.\\n April 30, 1789 - George Washington becomes the first President of the United States.\\n April 30, 1803 - The United States purchases (buys) the Louisiana territory from France.\\n April 30, 1945 - Adolf Hitler commits suicide on the same day that the Soviet Army raises the Red Flag on Berlin\\'s Reichstag.\\n April 30, 1952 - The Diary of Anne Frank is published in English.\\n April 30, 1975 - The Vietnam War ends, as North Vietnamese forces take Saigon.\\n April 30, 1980 - Queen Juliana of the Netherlands abdicates the throne, and her daughter becomes Queen Beatrix of the Netherlands. Beatrix later also abdicates, on this day in 2013, in favor of her son, King Willem-Alexander of the Netherlands.\\n\\nTrivia \\n\\n In Western Christianity, there is a bigger likelihood of Easter falling in April than in March.\\n The months around April (March and May) both start with an \\'M\\' in the English language, with an \\'A\\' as the second letter.\\n In the English language, April is the first of three months in-a-row, along with May and June, that is also a female given name.\\n The astrological signs for April are Aries (March 21 to April 20) and Taurus (April 21 to May 20).\\n The sweet pea and daisy are the traditional birth flowers for April.\\n Birthstone for April is the Diamond.\\nApril 1 is the only day in April to start within the first quarter of the calendar year.\\n If the months of the year were arranged in alphabetical order in the English language, April would come first.\\n Six current European monarchs were born in April. They are King Philippe of Belgium (April 15), Queen Margrethe II of Denmark (April 16), Henri, Grand Duke of Luxembourg (April 16), Elizabeth II of the United Kingdom and Commonwealth realms (April 21), King Willem-Alexander of the Netherlands (April 27), and King Carl XVI Gustaf of Sweden (April 30).\\n\\nReferences'}\n"
     ]
    }
   ],
   "source": [
    "import os\n",
    "from datetime import datetime\n",
    "from typing import List\n",
    "from streaming_pipeline.models import WikipediaArticle\n",
    "\n",
    "from streaming_pipeline import initialize\n",
    "\n",
    "from streaming_pipeline.wikipedia_stream import WikipediaArticlesStreamSource\n",
    "\n",
    "initialize()\n",
    "\n",
    "w = WikipediaArticlesStreamSource(title_prefixes=[\"A\", \"B\"])\n",
    "print(w.next())\n"
   ]
  },
  {
   "cell_type": "code",
   "execution_count": 2,
   "metadata": {},
   "outputs": [
    {
     "name": "stdout",
     "output_type": "stream",
     "text": [
      "{'id': '2', 'url': 'https://simple.wikipedia.org/wiki/August', 'title': 'August', 'text': 'August (Aug.) is the eighth month of the year in the Gregorian calendar, coming between July and September. It has 31 days. It is named after the Roman emperor Augustus Caesar.\\n\\nAugust does not begin on the same day of the week as any other month in common years, but begins on the same day of the week as February in leap years. August always ends on the same day of the week as November.\\n\\nThe Month \\n\\nThis month was first called Sextilis in Latin, because it was the sixth month in the old Roman calendar. The Roman calendar began in March about 735\\xa0BC with Romulus. October was the eighth month. August was the eighth month when January or February were added to the start of the year by King Numa Pompilius about 700\\xa0BC. Or, when those two months were moved from the end to the beginning of the year by the decemvirs about 450\\xa0BC (Roman writers disagree). In 153 BC January 1 was determined as the beginning of the year.\\n\\nAugust is named for Augustus Caesar who became Roman consul in this month. The month has 31 days because Julius Caesar added two days when he created the Julian calendar in 45 BC. August is after July and before September.\\n\\nAugust, in either hemisphere, is the seasonal equivalent of February in the other. In the Northern hemisphere it is a summer month and it is a winter month in the Southern hemisphere.\\n\\nNo other month in common years begins on the same day of the week as August, but August begins on the same day of the week as February in leap years. August ends on the same day of the week as November every year, as each other\\'s last days are 13 weeks (91 days) apart.\\n\\nIn common years, August starts on the same day of the week as March and November of the previous year, and in leap years, June of the previous year. In common years, August finishes on the same day of the week as March and June of the previous year, and in leap years, September of the previous year. In common years immediately after other common years, August starts on the same day of the week as February of the previous year.\\n\\nIn years immediately before common years, August starts on the same day of the week as May of the following year, and in years immediately before leap years, October of the following year. In years immediately before common years, August finishes on the same day of the week as May of the following year, and in years immediately before leap years, February and October of the following year.\\n\\nAugust observances\\n\\nFixed observances and events \\n\\n August 1  National Day of Switzerland\\n August 1  Independence Day (Benin)\\n August 1  Emancipation Day (Bermuda, Guyana, Jamaica, Barbados, Trinidad and Tobago)\\n August 1  Army Day (People\\'s Republic of China)\\n August 1  Lammas, cross-quarter day in the Celtic calendar\\n August 1  Statehood Day (Colorado)\\n August 2  Republic Day (Republic of Macedonia)\\n August 2  Emancipation Day (Bahamas)\\n August 3  Independence Day (Niger)\\n August 5  Independence Day (Burkina Faso)\\n August 5  Victory Day (Croatia)\\n August 6  Independence Day (Bolivia)\\n August 6  Independence Day (Jamaica)\\n August 7  Independence Day (Ivory Coast)\\n August 8  Father\\'s Day (Taiwan)\\n August 9  National Day of Singapore\\n August 9  Day of the Indigenous People (Suriname)\\n August 9  National Women\\'s Day (South Africa)\\n August 10  Independence Day (Ecuador)\\n August 10  Missouri Day\\n August 11  Independence Day (Chad)\\n August 12  Perseid Meteor Shower\\n August 12  Queen Sirikit\\'s Birthday (Thailand)\\n August 13  Independence Day (Central African Republic)\\n August 14  Independence Day (Pakistan)\\n August 15  Assumption of Mary in Western Christianity\\n August 15  Independence Day (India)\\n August 15  Independence Day (Republic of the Congo)\\n August 15  Independence Day (Bahrain)\\n August 15  National Day of South Korea\\n August 15  National Day of Liechtenstein\\n August 15  Victory in Japan Day\\n August 17  Independence Day (Indonesia)\\n August 17  Independence Day (Gabon)\\n August 19  World Humanitarian Day\\n August 19  Independence Day (Afghanistan)\\n August 20  Feast day of Stephen I of Hungary\\n August 20  Regaining of Independence (Estonia)\\n August 21  Admission Day (Hawaii)\\n August 21  Ninoy Aquino Day (Philippines)\\n August 21  Saint Helena Day\\n August 23  National Heroes Day (Philippines)\\n August 24  Independence Day (Ukraine)\\n August 25  Independence Day (Uruguay)\\n August 26  Heroes\\' Day (Namibia)\\n August 27  Independence Day (Moldova)\\n August 28  Assumption of Mary (Eastern Christianity)\\n August 29  National Uprising Day (Slovakia)\\n August 30  Constitution Day (Kazakhstan)\\n August 30  Republic Day (Tatarstan)\\n August 30  Victory Day (Turkey)\\n August 31  Independence Day (Kyrgyzstan)\\n August 31  Independence Day (Malaysia)\\n August 31  Independence Day (Trinidad and Tobago)\\n\\nMoveable and Monthlong events \\n\\n Edinburgh Festival, including the Military Tattoo at Edinburgh Castle, takes place through most of August and beginning of September.\\n UK Bank Holidays: First Monday in Scotland, last Monday in England and Wales\\n National Eisteddfod, cultural celebration in Wales: First week in August\\n Children\\'s Day in Uruguay: Second Sunday in August\\n Monday after August 17: Holiday in Argentina, commemorating José de San Martin\\n Discovery Day in Canada: third Monday in August\\n Summer Olympics, often held in July and/or August\\n\\nSelection of Historical Events \\n\\n August 1  1291: Traditional founding date of Switzerland.\\n August 1  1914: World War I begins.\\n August 1  1944: Anne Frank makes the last entry in her diary.\\n August 1  1960: Dahomey (now called Benin) becomes independent.\\n August 2  1990: Iraq invades Kuwait.\\n August 3  1492: Christopher Columbus sets sail on his first voyage.\\n August 3  1960: Niger becomes independent.\\n August 4  1944: Anne Frank and her family are captured by the Gestapo in Amsterdam.\\n August 4  1984: Upper Volta\\'s name is changed to Burkina Faso.\\n August 5  1960: Upper Volta becomes independent.\\n August 5  1962: Film actress Marilyn Monroe is found dead at her home.\\n August 6  1825: Bolivian independence.\\n August 6  1945: The Atomic Bomb is dropped on Hiroshima.\\n August 6  1962: Jamaica becomes independent.\\n August 7  1960: Ivory Coast becomes independent.\\n August 9  1945: The Atomic Bomb is dropped on Nagasaki.\\n August 9  1965: Singapore becomes independent.\\n August 9  1974: US President Richard Nixon resigns following the Watergate scandal, with Gerald Ford replacing him.\\n August 10  1792: Storming of the Tuileries Palace during the French Revolution\\n August 10  1809: Beginning of Ecuadorean independence movement.\\n August 11  1960: Chad becomes independent.\\n August 13  1960: The Central African Republic becomes independent.\\n August 13  1961: Building of the Berlin Wall begins.\\n August 14  1945: Japan announces its surrender at the end of World War II.\\n August 14/15  1947: India is partitioned at independence from the UK, as the new mainly Islamic state of Pakistan is created.\\n August 15  1960: The Republic of the Congo becomes independent.\\n August 15  1971: Bahrain becomes independent.\\n August 16  1977: Elvis Presley dies aged 42, leading to a worldwide outpouring of grief.\\n August 17  1945: Indonesia declares independence from the Netherlands.\\n August 17  1960: Gabon becomes independent.\\n August 17  1962: Peter Fechter becomes the first person to be shot dead at the Berlin Wall.\\n August 19  43 BC: Augustus becomes Roman consul.\\n August 19  14: Augustus dies.\\n August 19  1919: Afghanistan becomes independent.\\n August 19  1991: The August Coup against Mikhail Gorbachev, in the Soviet Union, begins.\\n August 20  1940: Leon Trotsky is fatally wounded with an ice pick in Mexico.\\n August 20  1968: The Prague Spring uprising is crushed.\\n August 20  1991: Estonia regains its independence from the Soviet Union.\\n August 21  1959: Hawaii becomes the 50th State of the US.\\n August 24  79: Vesuvius erupts, destroying Pompeii and neighbouring Herculaneum.\\n August 24  1991: Ukraine regains independence from the Soviet Union.\\n August 25  1825: Uruguay declares independence from Brazil.\\n August 27  1883: Krakatoa, in the Sunda Strait between Sumatra and Java, explodes, after a very violent eruption.\\n August 27  1991: Moldova becomes independent from the Soviet Union.\\n August 28  1963: The March on Washington for Jobs and Freedom takes place, where Martin Luther King, Jr. makes his \"I Have a Dream\" speech for Civil Rights in the United States.\\n August 29  2005: Hurricane Katrina wreaks devastation in Alabama, Mississippi and Louisiana. New Orleans is flooded.\\n August 31  1957: Malaysia, then the Federation of Malaya, becomes independent.\\n August 31  1962: Trinidad and Tobago becomes independent.\\n August 31  1991: Kyrgyzstan becomes independent.\\n August 31  1997: Diana, Princess of Wales is killed in a car crash in Paris, leading to a big outpouring of grief.\\n\\nTrivia \\n Along with July, August is one of two calendar months to be named after people who really lived (July was named for Julius Caesar and August was named for Augustus).\\n Only one US President has died in August, Warren G. Harding, on August 2, 1923.\\n August\\'s flower is the Gladiolus with the birthstone being peridot.\\n The astrological signs for August are Leo (July 22 - August 21) and Virgo (August 22 - September 21).\\nAugust is the second of two months beginning with \\'A\\', the other being April, with both April 21 and August 21 falling either side of the Northern summer solstice.\\n\\nReferences'}\n"
     ]
    }
   ],
   "source": [
    "from pydantic import parse_obj_as\n",
    "\n",
    "\n",
    "messages = [w.next() for _ in range(10)]\n",
    "print(messages[0])\n"
   ]
  },
  {
   "cell_type": "code",
   "execution_count": 3,
   "metadata": {},
   "outputs": [],
   "source": [
    "documents = parse_obj_as(List[WikipediaArticle], messages)\n",
    "\n",
    "for doc in documents:\n",
    "    doc.transform()"
   ]
  },
  {
   "cell_type": "code",
   "execution_count": 4,
   "metadata": {},
   "outputs": [
    {
     "data": {
      "text/plain": [
       "(2,\n",
       " 0,\n",
       " ['August',\n",
       "  'August (Aug.) is the eighth month of the year in the Gregorian calendar, coming between July and September. It has 31 days. It is named after the Roman emperor Augustus Caesar.\\n\\nAugust does not begin on the same day of the week as any other month in common years, but begins on the same day of the week as February in leap years. August always ends on the same day of the week as November.\\n\\nThe Month \\n\\nThis month was first called Sextilis in Latin, because it was the sixth month in the old Roman calendar. The Roman calendar began in March about 735BC with Romulus. October was the eighth month. August was the eighth month when January or February were added to the start of the year by King Numa Pompilius about 700BC. Or, when those two months were moved from the end to the beginning of the year by the decemvirs about 450BC (Roman writers disagree). In 153 BC January 1 was determined as the beginning of the year.\\n\\nAugust is named for Augustus Caesar who became Roman consul in this month. The month has 31 days because Julius Caesar added two days when he created the Julian calendar in 45 BC. August is after July and before September.\\n\\nAugust, in either hemisphere, is the seasonal equivalent of February in the other. In the Northern hemisphere it is a summer month and it is a winter month in the Southern hemisphere.\\n\\nNo other month in common years begins on the same day of the week as August, but August begins on the same day of the week as February in leap years. August ends on the same day of the week as November every year, as each other\\'s last days are 13 weeks (91 days) apart.\\n\\nIn common years, August starts on the same day of the week as March and November of the previous year, and in leap years, June of the previous year. In common years, August finishes on the same day of the week as March and June of the previous year, and in leap years, September of the previous year. In common years immediately after other common years, August starts on the same day of the week as February of the previous year.\\n\\nIn years immediately before common years, August starts on the same day of the week as May of the following year, and in years immediately before leap years, October of the following year. In years immediately before common years, August finishes on the same day of the week as May of the following year, and in years immediately before leap years, February and October of the following year.\\n\\nAugust observances\\n\\nFixed observances and events \\n\\n August 1  National Day of Switzerland\\n August 1  Independence Day (Benin)\\n August 1  Emancipation Day (Bermuda, Guyana, Jamaica, Barbados, Trinidad and Tobago)\\n August 1  Army Day (People\\'s Republic of China)\\n August 1  Lammas, cross-quarter day in the Celtic calendar\\n August 1  Statehood Day (Colorado)\\n August 2  Republic Day (Republic of Macedonia)\\n August 2  Emancipation Day (Bahamas)\\n August 3  Independence Day (Niger)\\n August 5  Independence Day (Burkina Faso)\\n August 5  Victory Day (Croatia)\\n August 6  Independence Day (Bolivia)\\n August 6  Independence Day (Jamaica)\\n August 7  Independence Day (Ivory Coast)\\n August 8  Father\\'s Day (Taiwan)\\n August 9  National Day of Singapore\\n August 9  Day of the Indigenous People (Suriname)\\n August 9  National Women\\'s Day (South Africa)\\n August 10  Independence Day (Ecuador)\\n August 10  Missouri Day\\n August 11  Independence Day (Chad)\\n August 12  Perseid Meteor Shower\\n August 12  Queen Sirikit\\'s Birthday (Thailand)\\n August 13  Independence Day (Central African Republic)\\n August 14  Independence Day (Pakistan)\\n August 15  Assumption of Mary in Western Christianity\\n August 15  Independence Day (India)\\n August 15  Independence Day (Republic of the Congo)\\n August 15  Independence Day (Bahrain)\\n August 15  National Day of South Korea\\n August 15  National Day of Liechtenstein\\n August 15  Victory in Japan Day\\n August 17  Independence Day (Indonesia)\\n August 17  Independence Day (Gabon)\\n August 19  World Humanitarian Day\\n August 19  Independence Day (Afghanistan)\\n August 20  Feast day of Stephen I of Hungary\\n August 20  Regaining of Independence (Estonia)\\n August 21  Admission Day (Hawaii)\\n August 21  Ninoy Aquino Day (Philippines)\\n August 21  Saint Helena Day\\n August 23  National Heroes Day (Philippines)\\n August 24  Independence Day (Ukraine)\\n August 25  Independence Day (Uruguay)\\n August 26  Heroes\\' Day (Namibia)\\n August 27  Independence Day (Moldova)\\n August 28  Assumption of Mary (Eastern Christianity)\\n August 29  National Uprising Day (Slovakia)\\n August 30  Constitution Day (Kazakhstan)\\n August 30  Republic Day (Tatarstan)\\n August 30  Victory Day (Turkey)\\n August 31  Independence Day (Kyrgyzstan)\\n August 31  Independence Day (Malaysia)\\n August 31  Independence Day (Trinidad and Tobago)\\n\\nMoveable and Monthlong events \\n\\n Edinburgh Festival, including the Military Tattoo at Edinburgh Castle, takes place through most of August and beginning of September.\\n UK Bank Holidays: First Monday in Scotland, last Monday in England and Wales\\n National Eisteddfod, cultural celebration in Wales: First week in August\\n Children\\'s Day in Uruguay: Second Sunday in August\\n Monday after August 17: Holiday in Argentina, commemorating Jos de San Martin\\n Discovery Day in Canada: third Monday in August\\n Summer Olympics, often held in July and/or August\\n\\nSelection of Historical Events \\n\\n August 1  1291: Traditional founding date of Switzerland.\\n August 1  1914: World War I begins.\\n August 1  1944: Anne Frank makes the last entry in her diary.\\n August 1  1960: Dahomey (now called Benin) becomes independent.\\n August 2  1990: Iraq invades Kuwait.\\n August 3  1492: Christopher Columbus sets sail on his first voyage.\\n August 3  1960: Niger becomes independent.\\n August 4  1944: Anne Frank and her family are captured by the Gestapo in Amsterdam.\\n August 4  1984: Upper Volta\\'s name is changed to Burkina Faso.\\n August 5  1960: Upper Volta becomes independent.\\n August 5  1962: Film actress Marilyn Monroe is found dead at her home.\\n August 6  1825: Bolivian independence.\\n August 6  1945: The Atomic Bomb is dropped on Hiroshima.\\n August 6  1962: Jamaica becomes independent.\\n August 7  1960: Ivory Coast becomes independent.\\n August 9  1945: The Atomic Bomb is dropped on Nagasaki.\\n August 9  1965: Singapore becomes independent.\\n August 9  1974: US President Richard Nixon resigns following the Watergate scandal, with Gerald Ford replacing him.\\n August 10  1792: Storming of the Tuileries Palace during the French Revolution\\n August 10  1809: Beginning of Ecuadorean independence movement.\\n August 11  1960: Chad becomes independent.\\n August 13  1960: The Central African Republic becomes independent.\\n August 13  1961: Building of the Berlin Wall begins.\\n August 14  1945: Japan announces its surrender at the end of World War II.\\n August 14/15  1947: India is partitioned at independence from the UK, as the new mainly Islamic state of Pakistan is created.\\n August 15  1960: The Republic of the Congo becomes independent.\\n August 15  1971: Bahrain becomes independent.\\n August 16  1977: Elvis Presley dies aged 42, leading to a worldwide outpouring of grief.\\n August 17  1945: Indonesia declares independence from the Netherlands.\\n August 17  1960: Gabon becomes independent.\\n August 17  1962: Peter Fechter becomes the first person to be shot dead at the Berlin Wall.\\n August 19  43 BC: Augustus becomes Roman consul.\\n August 19  14: Augustus dies.\\n August 19  1919: Afghanistan becomes independent.\\n August 19  1991: The August Coup against Mikhail Gorbachev, in the Soviet Union, begins.\\n August 20  1940: Leon Trotsky is fatally wounded with an ice pick in Mexico.\\n August 20  1968: The Prague Spring uprising is crushed.\\n August 20  1991: Estonia regains its independence from the Soviet Union.\\n August 21  1959: Hawaii becomes the 50th State of the US.\\n August 24  79: Vesuvius erupts, destroying Pompeii and neighbouring Herculaneum.\\n August 24  1991: Ukraine regains independence from the Soviet Union.\\n August 25  1825: Uruguay declares independence from Brazil.\\n August 27  1883: Krakatoa, in the Sunda Strait between Sumatra and Java, explodes, after a very violent eruption.\\n August 27  1991: Moldova becomes independent from the Soviet Union.\\n August 28  1963: The March on Washington for Jobs and Freedom takes place, where Martin Luther King, Jr. makes his \"I Have a Dream\" speech for Civil Rights in the United States.\\n August 29  2005: Hurricane Katrina wreaks devastation in Alabama, Mississippi and Louisiana. New Orleans is flooded.\\n August 31  1957: Malaysia, then the Federation of Malaya, becomes independent.\\n August 31  1962: Trinidad and Tobago becomes independent.\\n August 31  1991: Kyrgyzstan becomes independent.\\n August 31  1997: Diana, Princess of Wales is killed in a car crash in Paris, leading to a big outpouring of grief.\\n\\nTrivia \\n Along with July, August is one of two calendar months to be named after people who really lived (July was named for Julius Caesar and August was named for Augustus).\\n Only one US President has died in August, Warren G. Harding, on August 2, 1923.\\n August\\'s flower is the Gladiolus with the birthstone being peridot.\\n The astrological signs for August are Leo (July 22 - August 21) and Virgo (August 22 - September 21).\\nAugust is the second of two months beginning with \\'A\\', the other being April, with both April 21 and August 21 falling either side of the Northern summer solstice.\\n\\nReferences'])"
      ]
     },
     "execution_count": 4,
     "metadata": {},
     "output_type": "execute_result"
    }
   ],
   "source": [
    "doc = documents[0]\n",
    "len(doc.doc_text), len(doc.doc_chunks), doc.doc_text"
   ]
  },
  {
   "cell_type": "code",
   "execution_count": 5,
   "metadata": {},
   "outputs": [
    {
     "name": "stderr",
     "output_type": "stream",
     "text": [
      "/home/daniel/.cache/pypoetry/virtualenvs/streaming-pipeline-fcAEtgtX-py3.10/lib/python3.10/site-packages/huggingface_hub/file_download.py:1132: FutureWarning: `resume_download` is deprecated and will be removed in version 1.0.0. Downloads always resume when possible. If you want to force a new download, use `force_download=True`.\n",
      "  warnings.warn(\n"
     ]
    },
    {
     "name": "stdout",
     "output_type": "stream",
     "text": [
      "item: August has 1 chunks\n",
      "item: August (Au has 5 chunks\n"
     ]
    },
    {
     "data": {
      "text/plain": [
       "(2, 6)"
      ]
     },
     "execution_count": 5,
     "metadata": {},
     "output_type": "execute_result"
    }
   ],
   "source": [
    "from streaming_pipeline.embeddings import EmbeddingModelSingleton\n",
    "\n",
    "\n",
    "model = EmbeddingModelSingleton(cache_dir=None)\n",
    "\n",
    "doc.compute_chunks(model)\n",
    "len(doc.doc_text), len(doc.doc_chunks)"
   ]
  },
  {
   "cell_type": "code",
   "execution_count": 6,
   "metadata": {},
   "outputs": [
    {
     "data": {
      "text/plain": [
       "(6, 1761)"
      ]
     },
     "execution_count": 6,
     "metadata": {},
     "output_type": "execute_result"
    }
   ],
   "source": [
    "len(doc.doc_chunks[0]), len(doc.doc_chunks[1])"
   ]
  },
  {
   "cell_type": "code",
   "execution_count": 7,
   "metadata": {},
   "outputs": [
    {
     "data": {
      "text/plain": [
       "(384, 384)"
      ]
     },
     "execution_count": 7,
     "metadata": {},
     "output_type": "execute_result"
    }
   ],
   "source": [
    "doc.compute_embeddings(model)\n",
    "len(doc.doc_embeddings[0]), len(doc.doc_embeddings[1])"
   ]
  },
  {
   "cell_type": "code",
   "execution_count": 8,
   "metadata": {},
   "outputs": [
    {
     "data": {
      "text/plain": [
       "['41ba70891fb6f39327d8ccb9b1dafb84',\n",
       " '045bd6595b39c583bd9e78852862383c',\n",
       " '301a490d72a3a84964d93e65b4b2c08d',\n",
       " '0d1d3b80927dc0854f3575a07febedac',\n",
       " '5cbce73d4a43a1b959087ec1496d222a',\n",
       " '7416149702deea4927f01279676fbfcf']"
      ]
     },
     "execution_count": 8,
     "metadata": {},
     "output_type": "execute_result"
    }
   ],
   "source": [
    "\n",
    "\n",
    "ids, payloads = doc.to_payloads()\n",
    "ids"
   ]
  },
  {
   "cell_type": "code",
   "execution_count": 9,
   "metadata": {},
   "outputs": [
    {
     "data": {
      "text/plain": [
       "('August',\n",
       " \"August (Aug.) is the eighth month of the year in the Gregorian calendar, coming between July and September. It has 31 days. It is named after the Roman emperor Augustus Caesar.\\n\\nAugust does not begin on the same day of the week as any other month in common years, but begins on the same day of the week as February in leap years. August always ends on the same day of the week as November.\\n\\nThe Month \\n\\nThis month was first called Sextilis in Latin, because it was the sixth month in the old Roman calendar. The Roman calendar began in March about 735BC with Romulus. October was the eighth month. August was the eighth month when January or February were added to the start of the year by King Numa Pompilius about 700BC. Or, when those two months were moved from the end to the beginning of the year by the decemvirs about 450BC (Roman writers disagree). In 153 BC January 1 was determined as the beginning of the year.\\n\\nAugust is named for Augustus Caesar who became Roman consul in this month. The month has 31 days because Julius Caesar added two days when he created the Julian calendar in 45 BC. August is after July and before September.\\n\\nAugust, in either hemisphere, is the seasonal equivalent of February in the other. In the Northern hemisphere it is a summer month and it is a winter month in the Southern hemisphere.\\n\\nNo other month in common years begins on the same day of the week as August, but August begins on the same day of the week as February in leap years. August ends on the same day of the week as November every year, as each other's last days are 13 weeks (91 days) apart.\\n\\nIn common years, August starts on the same day of the week as March and November of the previous year, and in leap years, June of the previous year. In common\")"
      ]
     },
     "execution_count": 9,
     "metadata": {},
     "output_type": "execute_result"
    }
   ],
   "source": [
    "doc.doc_chunks[0], doc.doc_chunks[1]"
   ]
  },
  {
   "cell_type": "code",
   "execution_count": 10,
   "metadata": {},
   "outputs": [
    {
     "data": {
      "text/plain": [
       "[{'title': 'August',\n",
       "  'url': 'https://simple.wikipedia.org/wiki/August',\n",
       "  'text': 'August'},\n",
       " {'title': 'August',\n",
       "  'url': 'https://simple.wikipedia.org/wiki/August',\n",
       "  'text': \"August (Aug.) is the eighth month of the year in the Gregorian calendar, coming between July and September. It has 31 days. It is named after the Roman emperor Augustus Caesar.\\n\\nAugust does not begin on the same day of the week as any other month in common years, but begins on the same day of the week as February in leap years. August always ends on the same day of the week as November.\\n\\nThe Month \\n\\nThis month was first called Sextilis in Latin, because it was the sixth month in the old Roman calendar. The Roman calendar began in March about 735BC with Romulus. October was the eighth month. August was the eighth month when January or February were added to the start of the year by King Numa Pompilius about 700BC. Or, when those two months were moved from the end to the beginning of the year by the decemvirs about 450BC (Roman writers disagree). In 153 BC January 1 was determined as the beginning of the year.\\n\\nAugust is named for Augustus Caesar who became Roman consul in this month. The month has 31 days because Julius Caesar added two days when he created the Julian calendar in 45 BC. August is after July and before September.\\n\\nAugust, in either hemisphere, is the seasonal equivalent of February in the other. In the Northern hemisphere it is a summer month and it is a winter month in the Southern hemisphere.\\n\\nNo other month in common years begins on the same day of the week as August, but August begins on the same day of the week as February in leap years. August ends on the same day of the week as November every year, as each other's last days are 13 weeks (91 days) apart.\\n\\nIn common years, August starts on the same day of the week as March and November of the previous year, and in leap years, June of the previous year. In common\"},\n",
       " {'title': 'August',\n",
       "  'url': 'https://simple.wikipedia.org/wiki/August',\n",
       "  'text': \"years, August finishes on the same day of the week as March and June of the previous year, and in leap years, September of the previous year. In common years immediately after other common years, August starts on the same day of the week as February of the previous year.\\n\\nIn years immediately before common years, August starts on the same day of the week as May of the following year, and in years immediately before leap years, October of the following year. In years immediately before common years, August finishes on the same day of the week as May of the following year, and in years immediately before leap years, February and October of the following year.\\n\\nAugust observances\\n\\nFixed observances and events \\n\\n August 1  National Day of Switzerland\\n August 1  Independence Day (Benin)\\n August 1  Emancipation Day (Bermuda, Guyana, Jamaica, Barbados, Trinidad and Tobago)\\n August 1  Army Day (People's Republic of China)\\n August 1  Lammas, cross-quarter day in the Celtic calendar\\n August 1  Statehood Day (Colorado)\\n August 2  Republic Day (Republic of Macedonia)\\n August 2  Emancipation Day (Bahamas)\\n August 3  Independence Day (Niger)\\n August 5  Independence Day (Burkina Faso)\\n August 5  Victory Day (Croatia)\\n August 6  Independence Day (Bolivia)\\n August 6  Independence Day (Jamaica)\\n August 7  Independence Day (Ivory Coast)\\n August 8  Father's Day (Taiwan)\\n August 9  National Day of Singapore\\n August 9  Day of the Indigenous People (Suriname)\\n August 9  National Women's Day (South Africa)\\n August 10  Independence Day (Ecuador)\\n August 10  Missouri Day\\n August 11  Independence Day (Chad)\\n August 12  Perseid Meteor Shower\\n August 12  Queen Sirikit's Birthday (Thailand)\\n August 13  Independence Day (Central African Republic)\\n August 14  Independence Day (Pakistan)\\n August 15  Assumption of Mary in Western Christianity\\n August 15  Independence Day (India)\\n August 15  Independence Day (Republic of the Congo)\\n August 15  Independence Day\"},\n",
       " {'title': 'August',\n",
       "  'url': 'https://simple.wikipedia.org/wiki/August',\n",
       "  'text': \"(Bahrain)\\n August 15  National Day of South Korea\\n August 15  National Day of Liechtenstein\\n August 15  Victory in Japan Day\\n August 17  Independence Day (Indonesia)\\n August 17  Independence Day (Gabon)\\n August 19  World Humanitarian Day\\n August 19  Independence Day (Afghanistan)\\n August 20  Feast day of Stephen I of Hungary\\n August 20  Regaining of Independence (Estonia)\\n August 21  Admission Day (Hawaii)\\n August 21  Ninoy Aquino Day (Philippines)\\n August 21  Saint Helena Day\\n August 23  National Heroes Day (Philippines)\\n August 24  Independence Day (Ukraine)\\n August 25  Independence Day (Uruguay)\\n August 26  Heroes' Day (Namibia)\\n August 27  Independence Day (Moldova)\\n August 28  Assumption of Mary (Eastern Christianity)\\n August 29  National Uprising Day (Slovakia)\\n August 30  Constitution Day (Kazakhstan)\\n August 30  Republic Day (Tatarstan)\\n August 30  Victory Day (Turkey)\\n August 31  Independence Day (Kyrgyzstan)\\n August 31  Independence Day (Malaysia)\\n August 31  Independence Day (Trinidad and Tobago)\\n\\nMoveable and Monthlong events \\n\\n Edinburgh Festival, including the Military Tattoo at Edinburgh Castle, takes place through most of August and beginning of September.\\n UK Bank Holidays: First Monday in Scotland, last Monday in England and Wales\\n National Eisteddfod, cultural celebration in Wales: First week in August\\n Children's Day in Uruguay: Second Sunday in August\\n Monday after August 17: Holiday in Argentina, commemorating Jos de San Martin\\n Discovery Day in Canada: third Monday in August\\n Summer Olympics, often held in July and/or August\\n\\nSelection of Historical Events \\n\\n August 1  1291: Traditional founding date of Switzerland.\\n August 1  1914: World War I begins.\\n August 1  1944: Anne Frank makes the last entry in her diary.\\n August 1  1960: Dahomey (now called Benin) becomes independent.\\n August 2  1990: Iraq invades Kuwait.\\n August 3  1492: Christopher Columbus sets sail on his first voyage.\\n August 3  1960: Niger becomes independent.\\n August 4  1944: Anne Frank and her\"},\n",
       " {'title': 'August',\n",
       "  'url': 'https://simple.wikipedia.org/wiki/August',\n",
       "  'text': \"family are captured by the Gestapo in Amsterdam.\\n August 4  1984: Upper Volta's name is changed to Burkina Faso.\\n August 5  1960: Upper Volta becomes independent.\\n August 5  1962: Film actress Marilyn Monroe is found dead at her home.\\n August 6  1825: Bolivian independence.\\n August 6  1945: The Atomic Bomb is dropped on Hiroshima.\\n August 6  1962: Jamaica becomes independent.\\n August 7  1960: Ivory Coast becomes independent.\\n August 9  1945: The Atomic Bomb is dropped on Nagasaki.\\n August 9  1965: Singapore becomes independent.\\n August 9  1974: US President Richard Nixon resigns following the Watergate scandal, with Gerald Ford replacing him.\\n August 10  1792: Storming of the Tuileries Palace during the French Revolution\\n August 10  1809: Beginning of Ecuadorean independence movement.\\n August 11  1960: Chad becomes independent.\\n August 13  1960: The Central African Republic becomes independent.\\n August 13  1961: Building of the Berlin Wall begins.\\n August 14  1945: Japan announces its surrender at the end of World War II.\\n August 14/15  1947: India is partitioned at independence from the UK, as the new mainly Islamic state of Pakistan is created.\\n August 15  1960: The Republic of the Congo becomes independent.\\n August 15  1971: Bahrain becomes independent.\\n August 16  1977: Elvis Presley dies aged 42, leading to a worldwide outpouring of grief.\\n August 17  1945: Indonesia declares independence from the Netherlands.\\n August 17  1960: Gabon becomes independent.\\n August 17  1962: Peter Fechter becomes the first person to be shot dead at the Berlin Wall.\\n August 19  43 BC: Augustus becomes Roman consul.\\n August 19  14: Augustus dies.\\n August 19  1919: Afghanistan becomes independent.\\n August 19  1991: The August Coup against Mikhail Gorbachev, in the Soviet Union, begins.\\n August 20  1940: Leon Trotsky is fatally wounded with an ice pick in Mexico.\\n August 20  1968: The Prague Spring uprising is crushed.\\n August 20 \"},\n",
       " {'title': 'August',\n",
       "  'url': 'https://simple.wikipedia.org/wiki/August',\n",
       "  'text': '1991: Estonia regains its independence from the Soviet Union.\\n August 21  1959: Hawaii becomes the 50th State of the US.\\n August 24  79: Vesuvius erupts, destroying Pompeii and neighbouring Herculaneum.\\n August 24  1991: Ukraine regains independence from the Soviet Union.\\n August 25  1825: Uruguay declares independence from Brazil.\\n August 27  1883: Krakatoa, in the Sunda Strait between Sumatra and Java, explodes, after a very violent eruption.\\n August 27  1991: Moldova becomes independent from the Soviet Union.\\n August 28  1963: The March on Washington for Jobs and Freedom takes place, where Martin Luther King, Jr. makes his \"I Have a Dream\" speech for Civil Rights in the United States.\\n August 29  2005: Hurricane Katrina wreaks devastation in Alabama, Mississippi and Louisiana. New Orleans is flooded.\\n August 31  1957: Malaysia, then the Federation of Malaya, becomes independent.\\n August 31  1962: Trinidad and Tobago becomes independent.\\n August 31  1991: Kyrgyzstan becomes independent.\\n August 31  1997: Diana, Princess of Wales is killed in a car crash in Paris, leading to a big outpouring of grief.\\n\\nTrivia \\n Along with July, August is one of two calendar months to be named after people who really lived (July was named for Julius Caesar and August was named for Augustus).\\n Only one US President has died in August, Warren G. Harding, on August 2, 1923.\\n August\\'s flower is the Gladiolus with the birthstone being peridot.\\n The astrological signs for August are Leo (July 22 - August 21) and Virgo (August 22 - September 21).\\nAugust is the second of two months beginning with \\'A\\', the other being April, with both April 21 and August 21 falling either side of the Northern summer solstice.\\n\\nReferences'}]"
      ]
     },
     "execution_count": 10,
     "metadata": {},
     "output_type": "execute_result"
    }
   ],
   "source": [
    "payloads"
   ]
  },
  {
   "cell_type": "code",
   "execution_count": 11,
   "metadata": {},
   "outputs": [
    {
     "name": "stdout",
     "output_type": "stream",
     "text": [
      "\u001b[0;31mInit signature:\u001b[0m\n",
      "\u001b[0mPointStruct\u001b[0m\u001b[0;34m(\u001b[0m\u001b[0;34m\u001b[0m\n",
      "\u001b[0;34m\u001b[0m    \u001b[0;34m*\u001b[0m\u001b[0;34m,\u001b[0m\u001b[0;34m\u001b[0m\n",
      "\u001b[0;34m\u001b[0m    \u001b[0mid\u001b[0m\u001b[0;34m:\u001b[0m \u001b[0mForwardRef\u001b[0m\u001b[0;34m(\u001b[0m\u001b[0;34m'ExtendedPointId'\u001b[0m\u001b[0;34m)\u001b[0m\u001b[0;34m,\u001b[0m\u001b[0;34m\u001b[0m\n",
      "\u001b[0;34m\u001b[0m    \u001b[0mvector\u001b[0m\u001b[0;34m:\u001b[0m \u001b[0mForwardRef\u001b[0m\u001b[0;34m(\u001b[0m\u001b[0;34m'VectorStruct'\u001b[0m\u001b[0;34m)\u001b[0m\u001b[0;34m,\u001b[0m\u001b[0;34m\u001b[0m\n",
      "\u001b[0;34m\u001b[0m    \u001b[0mpayload\u001b[0m\u001b[0;34m:\u001b[0m \u001b[0mOptional\u001b[0m\u001b[0;34m[\u001b[0m\u001b[0mDict\u001b[0m\u001b[0;34m[\u001b[0m\u001b[0mstr\u001b[0m\u001b[0;34m,\u001b[0m \u001b[0mAny\u001b[0m\u001b[0;34m]\u001b[0m\u001b[0;34m]\u001b[0m \u001b[0;34m=\u001b[0m \u001b[0;32mNone\u001b[0m\u001b[0;34m,\u001b[0m\u001b[0;34m\u001b[0m\n",
      "\u001b[0;34m\u001b[0m\u001b[0;34m)\u001b[0m \u001b[0;34m->\u001b[0m \u001b[0;32mNone\u001b[0m\u001b[0;34m\u001b[0m\u001b[0;34m\u001b[0m\u001b[0m\n",
      "\u001b[0;31mInit docstring:\u001b[0m\n",
      "Create a new model by parsing and validating input data from keyword arguments.\n",
      "\n",
      "Raises ValidationError if the input data cannot be parsed to form a valid model.\n",
      "\u001b[0;31mFile:\u001b[0m           ~/.cache/pypoetry/virtualenvs/streaming-pipeline-fcAEtgtX-py3.10/lib/python3.10/site-packages/qdrant_client/http/models/models.py\n",
      "\u001b[0;31mType:\u001b[0m           ModelMetaclass\n",
      "\u001b[0;31mSubclasses:\u001b[0m     "
     ]
    }
   ],
   "source": [
    "from qdrant_client.models import PointStruct\n",
    "\n",
    "PointStruct?"
   ]
  },
  {
   "cell_type": "code",
   "execution_count": 12,
   "metadata": {},
   "outputs": [
    {
     "data": {
      "text/plain": [
       "PointStruct(id='41ba70891fb6f39327d8ccb9b1dafb84', vector=[0.013589659705758095, 0.04040486738085747, 0.1208416223526001, 0.04845317825675011, -0.02448905259370804, -0.14554302394390106, 0.08605343103408813, -0.21176566183567047, -0.05545730143785477, -0.1702665090560913, 0.1890988051891327, 0.01176438108086586, -0.060689859092235565, -0.292618066072464, -0.21539917588233948, 0.1633121520280838, 0.03325789049267769, 0.006001024041324854, -0.079757921397686, -0.07979514449834824, -0.3036176264286041, -0.4202597737312317, -0.28942328691482544, -0.14775525033473969, -0.08228223025798798, 0.37307921051979065, -0.12502269446849823, 0.10064108669757843, -0.14801974594593048, -0.7686576843261719, -0.041444212198257446, -0.1987249106168747, -0.05472305789589882, -0.4456913471221924, 0.14495524764060974, 0.27766281366348267, -0.10336945205926895, -0.33234643936157227, -0.06951180100440979, 0.13542895019054413, -0.1583510786294937, -0.2899067997932434, 0.19585156440734863, -0.026067811995744705, 0.25406622886657715, -0.1152200922369957, 0.2229902148246765, 0.0621006116271019, -0.11754300445318222, 0.12456633150577545, 0.5063256025314331, 0.23952235281467438, -0.18488618731498718, 0.1390392780303955, -0.1275002658367157, -0.011851456016302109, -0.04683620482683182, 0.11912490427494049, -0.19045686721801758, 0.24032193422317505, -0.03629283607006073, 0.06046349182724953, -0.30381491780281067, 0.16168524324893951, -0.24456605315208435, -0.5130842328071594, 0.06012653186917305, 0.024626687169075012, -0.04479893296957016, 0.00529065215960145, 0.2528119385242462, 0.20574572682380676, 0.09722708910703659, 0.5082078576087952, 0.17065997421741486, 0.19335822761058807, 0.18887637555599213, 0.06004146859049797, 0.39934343099594116, 0.08059316128492355, -0.2488195151090622, -0.3718235492706299, -0.1662495881319046, -0.018845051527023315, 0.12611345946788788, -0.0686313807964325, 0.015000564977526665, -0.27471423149108887, -0.10786692053079605, 0.20702439546585083, 0.02066466026008129, 0.00737130269408226, 0.14098511636257172, -0.030504943802952766, -0.42833229899406433, -0.1648683249950409, 0.2044432908296585, -0.335951030254364, 0.01411605067551136, 5.934569358825684, -0.06868503987789154, 0.3364771008491516, -0.331706702709198, 0.38661137223243713, 0.42560622096061707, -0.1276279240846634, -0.15923936665058136, -0.4119112491607666, 0.15604819357395172, 0.12985482811927795, 0.06301785260438919, -0.38635504245758057, 0.20365360379219055, -0.10469283908605576, 0.18872931599617004, -0.1316089630126953, 0.07448235154151917, -0.02073143981397152, 0.32032880187034607, 0.4380350112915039, -0.024335458874702454, 0.3740173280239105, -0.45644232630729675, 0.19459691643714905, -0.0432695709168911, -0.9756013751029968, 0.2652801275253296, -4.3462022830692765e-32, 0.2772505283355713, 0.23674950003623962, -0.2972228229045868, -0.10954602807760239, 0.5066367387771606, 0.07311229407787323, -0.13134202361106873, -0.14631900191307068, -0.1197354793548584, 0.0060453712940216064, -0.3772236108779907, 0.046837493777275085, 0.14300431311130524, -0.1638750284910202, 0.1590205878019333, -0.09929784387350082, 0.18301871418952942, -0.3285835087299347, 0.3200169503688812, 0.0824107900261879, -0.040153056383132935, -0.10981809347867966, 0.05240476503968239, -0.14204590022563934, -0.0659596398472786, 0.2613426148891449, 0.3248438239097595, 0.05820231884717941, -0.17480462789535522, -0.20304520428180695, 0.022738642990589142, 0.08705663681030273, -0.5841883420944214, -0.14455854892730713, -0.1804114133119583, -0.2800198495388031, 0.24191026389598846, -0.01778491400182247, 0.2343747615814209, -0.3412400186061859, -0.1763419806957245, -0.023640606552362442, -0.193477600812912, -0.42020726203918457, 0.08760429918766022, 0.20246529579162598, 0.2293829619884491, 0.0466032437980175, 0.40126752853393555, -0.23712506890296936, 0.2574765980243683, 0.0032310178503394127, 0.04985717684030533, -0.10474082082509995, -0.3108149468898773, -0.07580085098743439, -0.2269488424062729, 0.4083382487297058, -0.06035854294896126, -0.0477478988468647, 0.36841532588005066, -0.15031373500823975, -0.051446590572595596, 0.056552741676568985, -0.28984230756759644, -0.4501267373561859, -0.1345876008272171, -0.13316184282302856, -0.17620281875133514, -0.06790203601121902, -0.09140865504741669, 0.04486821964383125, -0.3243194818496704, -0.2069995403289795, 0.1360396295785904, 0.017214763909578323, 0.005523933097720146, 0.28995639085769653, 0.1957777738571167, 0.31207409501075745, -0.13389642536640167, 0.3055534064769745, 0.5136130452156067, 0.1346493363380432, -0.040328700095415115, -0.5356488227844238, -0.22535064816474915, 0.47980940341949463, 0.009374815039336681, 0.019809400662779808, -0.11823303997516632, 0.009965520352125168, 0.5368258357048035, -0.06092352792620659, -0.11013680696487427, 3.072605287957589e-32, 0.0158406812697649, 0.10061943531036377, 0.011766299605369568, -0.1142677292227745, 0.07078424096107483, -0.04025432467460632, -0.08118215203285217, 0.0879925936460495, 0.09866860508918762, 0.3008156418800354, -0.08274374902248383, 0.5096896886825562, -0.309874027967453, 0.008054756559431553, 0.10212288051843643, -0.27505990862846375, -0.20819894969463348, 0.5475139021873474, 0.19064867496490479, -0.08172576129436493, -0.3561537265777588, -0.08083721250295639, -0.019146373495459557, 0.031685736030340195, 0.11732091009616852, -0.3352467715740204, -0.12543682754039764, -0.1526847928762436, -0.3217064142227173, -0.2974456548690796, 0.24157673120498657, 0.1772708147764206, -0.16073459386825562, 0.23083437979221344, -0.5506545305252075, 0.4837566614151001, 0.041600488126277924, -0.43503186106681824, -0.058816902339458466, -0.14024601876735687, 0.521859884262085, -0.36485931277275085, 0.018795529380440712, 0.058873552829027176, -0.01205566618591547, 0.22702448070049286, 0.34291720390319824, 0.23419003188610077, -0.07341787964105606, 0.19857677817344666, 0.10955199599266052, -0.3027361333370209, 0.34359872341156006, 0.4094295799732208, 0.0819074884057045, -0.22566264867782593, -0.30783966183662415, -0.25642484426498413, -0.18352419137954712, 0.13680803775787354, 0.1156410500407219, 0.42173632979393005, 0.08617445081472397, 0.14113175868988037, -0.6119004487991333, 0.3748144805431366, -0.07671317458152771, -0.252548485994339, -0.4425962567329407, 0.28945037722587585, 0.07687060534954071, -0.13410483300685883, -0.5815361738204956, 0.29049772024154663, 0.05297600105404854, -0.0022205717395991087, -0.3721257746219635, -0.13274018466472626, -0.2393135130405426, -0.28653937578201294, -0.040450505912303925, 0.20099171996116638, -0.4174244701862335, 0.5209328532218933, -0.33356019854545593, -0.05745920166373253, -0.0025775644462555647, -0.11852146685123444, 0.3169136941432953, 0.1819445639848709, -0.04748624563217163, -0.012579995207488537, -0.1760329008102417, -0.02497701533138752, -0.3002297580242157, -9.025280434116212e-08, 0.08018635958433151, 0.23263104259967804, 0.0021144936326891184, 0.09572078287601471, -0.0509871244430542, -0.4011783003807068, 0.04997013136744499, 0.05143415182828903, 0.21790848672389984, -0.17468993365764618, 0.14510507881641388, 0.13404962420463562, 0.24130754172801971, 0.0837446004152298, 0.06783852726221085, -0.175892174243927, 0.32906949520111084, 0.029748016968369484, 0.0062697636894881725, 0.09975239634513855, 0.31105780601501465, 0.6273584961891174, 0.5404919981956482, 0.11873465031385422, 0.23812204599380493, -0.3029252886772156, -0.3809373676776886, -0.43720942735671997, 0.13838043808937073, 0.026625337079167366, 0.1241556853055954, 0.13721297681331635, -0.3550838530063629, -0.322622686624527, -0.3491474688053131, 0.058654725551605225, -0.00959073193371296, 0.004889200907200575, -0.12146054953336716, -0.06383976340293884, -0.08831372857093811, 0.10708975791931152, 0.09977158904075623, -0.15925700962543488, 0.05388519540429115, 0.034010570496320724, -0.28023216128349304, -0.5612939596176147, 0.16065055131912231, -0.494056761264801, -0.3292560279369354, -0.10944557934999466, 0.13039080798625946, 0.2639090120792389, 0.18364973366260529, -0.08999068289995193, -0.397005170583725, -0.31460142135620117, 0.23110857605934143, 0.01189482118934393, 0.15470914542675018, -0.19497136771678925, -0.26328328251838684, -0.37766408920288086], payload={'title': 'August', 'url': 'https://simple.wikipedia.org/wiki/August', 'text': 'August'})"
      ]
     },
     "execution_count": 12,
     "metadata": {},
     "output_type": "execute_result"
    }
   ],
   "source": [
    "points = [\n",
    "    PointStruct(id=idx, vector=vector, payload=_payload)\n",
    "    for idx, vector, _payload in zip(ids, doc.doc_embeddings, payloads)\n",
    "]\n",
    "\n",
    "points[0]"
   ]
  },
  {
   "cell_type": "code",
   "execution_count": null,
   "metadata": {},
   "outputs": [],
   "source": []
  }
 ],
 "metadata": {
  "kernelspec": {
   "display_name": "streaming-pipeline-uKqZ9-R3-py3.10",
   "language": "python",
   "name": "python3"
  },
  "language_info": {
   "codemirror_mode": {
    "name": "ipython",
    "version": 3
   },
   "file_extension": ".py",
   "mimetype": "text/x-python",
   "name": "python",
   "nbconvert_exporter": "python",
   "pygments_lexer": "ipython3",
   "version": "3.10.14"
  }
 },
 "nbformat": 4,
 "nbformat_minor": 2
}
