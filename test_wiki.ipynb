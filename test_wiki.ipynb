{
 "cells": [
  {
   "cell_type": "code",
   "execution_count": 69,
   "metadata": {},
   "outputs": [
    {
     "name": "stderr",
     "output_type": "stream",
     "text": [
      "/home/daniel/.cache/pypoetry/virtualenvs/streaming-pipeline-fcAEtgtX-py3.10/lib/python3.10/site-packages/datasets/load.py:1486: FutureWarning: The repository for wikipedia contains custom code which must be executed to correctly load the dataset. You can inspect the repository content at https://hf.co/datasets/wikipedia\n",
      "You can avoid this message in future by passing the argument `trust_remote_code=True`.\n",
      "Passing `trust_remote_code=True` will be mandatory to load this dataset from the next major release of `datasets`.\n",
      "  warnings.warn(\n"
     ]
    },
    {
     "data": {
      "text/plain": [
       "datasets.dataset_dict.IterableDatasetDict"
      ]
     },
     "execution_count": 69,
     "metadata": {},
     "output_type": "execute_result"
    }
   ],
   "source": [
    "from datasets import load_dataset\n",
    "\n",
    "dataset = load_dataset(\"wikipedia\", \"20220301.simple\", streaming=True)\n",
    "type(dataset)"
   ]
  },
  {
   "cell_type": "code",
   "execution_count": 97,
   "metadata": {},
   "outputs": [],
   "source": [
    "title_prefixes = [\"Bo\", \"Bl\"]\n",
    "iterable_dataset = dataset.filter(lambda x: any(x[\"title\"].startswith(prefix) for prefix in title_prefixes))[\"train\"]\n",
    "\n"
   ]
  },
  {
   "cell_type": "code",
   "execution_count": 99,
   "metadata": {},
   "outputs": [
    {
     "name": "stdout",
     "output_type": "stream",
     "text": [
      "{'id': '68', 'url': 'https://simple.wikipedia.org/wiki/Black%20pudding', 'title': 'Black pudding', 'text': 'Black pudding is an English name for zwarte pudding.  It is food made by cooking down the blood of any mammal (usually pigs or cattle) with meat, fat or filler until it is thick enough to congeal (become firm or solid) when cooled.\\n\\nTypes of black pudding\\n\\nIn Great Britain, blood sausage is called  \"black pudding\". The ingredients include pig\\'s blood, suet, bread, barley and oatmeal. The most common kind of German Blutwurst is made from fatty pork meat, beef blood and filler such as barley. Though already cooked and \"ready to eat\" it is usually served warm.\\n\\nOther kinds of blood sausage include boudin noir (France), boudin rouge (Creole and Cajun) and morcilla (Spain).\\n\\nHistory\\nA legend says that blood sausage was invented in a bet between two Bavarian butchers drunk on the alcoholic drink absinthe during the 14th century. Homer\\'s Odyssey from Ancient Greece says that \"As when a man besides a great fire has filled a sausage with fat and blood and turns it this way and that and is very eager to get it quickly roasted...\".\\n\\nRelated pages\\nSausage\\n\\nSausage'}\n",
      "{'id': '68', 'url': 'https://simple.wikipedia.org/wiki/Black%20pudding', 'title': 'Black pudding', 'text': 'Black pudding is an English name for zwarte pudding.  It is food made by cooking down the blood of any mammal (usually pigs or cattle) with meat, fat or filler until it is thick enough to congeal (become firm or solid) when cooled.\\n\\nTypes of black pudding\\n\\nIn Great Britain, blood sausage is called  \"black pudding\". The ingredients include pig\\'s blood, suet, bread, barley and oatmeal. The most common kind of German Blutwurst is made from fatty pork meat, beef blood and filler such as barley. Though already cooked and \"ready to eat\" it is usually served warm.\\n\\nOther kinds of blood sausage include boudin noir (France), boudin rouge (Creole and Cajun) and morcilla (Spain).\\n\\nHistory\\nA legend says that blood sausage was invented in a bet between two Bavarian butchers drunk on the alcoholic drink absinthe during the 14th century. Homer\\'s Odyssey from Ancient Greece says that \"As when a man besides a great fire has filled a sausage with fat and blood and turns it this way and that and is very eager to get it quickly roasted...\".\\n\\nRelated pages\\nSausage\\n\\nSausage'}\n"
     ]
    }
   ],
   "source": [
    "print(next(iterable_dataset.__iter__()))\n",
    "print(next(iterable_dataset.__iter__()))"
   ]
  },
  {
   "cell_type": "code",
   "execution_count": 95,
   "metadata": {},
   "outputs": [
    {
     "name": "stdout",
     "output_type": "stream",
     "text": [
      "{'id': '3635', 'url': 'https://simple.wikipedia.org/wiki/Blindness', 'title': 'Blindness', 'text': 'Blindness is to not see anything. Some people are called blind, even though they can see a little bit. This is because they cannot see clearly, but only see unfocused shapes or colors. \\n\\nIn modern countries, few young people are blind. In all the world, blindness is mostly caused by malnutrition and diseases of old people, like cataracts and trachoma. People can become blind because of diseases or accidents, but sometimes people are born blind.\\n\\nSome people are color blind, which means they can see, but cannot tell certain colors apart. \\n\\nWhen people are blind they use such things as the alphabet in braille and guide dogs to do every day life things. \\n\\nFamous blind people have included Louis Braille, the inventor of the braille alphabet, Stevie Wonder, Ray Charles and Helen Keller.\\n\\nOther websites \\n\\n Book on the history of blindness \\n Royal National Institute for the Blind \\n Scottish Sensory Centre \\n Blind Net\\n Guide Dogs for the Blind Association\\n\\nDisability'}\n",
      "{'id': '3686', 'url': 'https://simple.wikipedia.org/wiki/Book', 'title': 'Book', 'text': 'A book is a set of printed sheets of paper held together between two covers. The sheets of paper are usually covered with a text, language and illustrations.  The book is a more flexible format than the earlier idea of the scroll.  The change from scrolls to books began in the Roman Empire, and took many centuries to become complete.\\n\\nA writer of a book is called an author. Someone who draws pictures in a book is called an illustrator. Books can have more than one author or illustrator.\\n\\nA book can also be a text in a larger collection of texts. That way a book is perhaps written by one author, or it only treats one subject area. Books in this sense can often be understood without knowing the whole collection. Examples are the Iliad, Odyssey, Bible and Torah. All of them consist of a number of “books” in this sense of the word. Encyclopedias often have separate articles written by different people, and published as separate volumes. Each volume is a book.\\n\\nHardcover books have hard covers made of cardboard covered in cloth or leather and are usually sewn together. Paperback books have covers of stiff paper and are usually glued together. The words in books can be read aloud and recorded on tapes or compact discs. These are called \"audiobooks\".\\n\\nBooks can be borrowed from a library or bought from a bookstore. People can make their own books and fill them with family photos, drawings, or their own writing. Some books are empty inside, like a diary, address book, or photo album. Most of the time, the word \"book\" means that the pages inside have words printed or written on them.\\n\\nSome books are written just for children, or for entertainment, while other books are for studying something in school such as math or history. Many books have photographs or drawings.\\n\\nContent of books \\nThere are two main kinds of book text: fiction and non-fiction.\\n\\nFiction \\n\\nThese books are novels, about stories that did not happen, and have been imagined by the author. Some books are based on real events from history, but the author has created imaginary characters or dialogue for the events.\\n\\nNon-fiction \\n\\nBooks of non-fiction are about true facts or things that have really happened. Some examples are dictionaries, cookbooks, textbooks for learning in school, or a biography (someone\\'s life story).\\n\\nHistorical \\n\\nBetween the written manuscript and the book lie several inventions. Manuscripts are hand-made, but books are now industrial products.\\n\\nManuscripts \\nA common type of manuscript was the scroll, which was a long sheet rolled up. The sheet could have been made of papyrus (made by the Egyptians, by weaving the inner stems of the papyrus plant and then hammering them together), or parchment or vellum (very thin animal skin, first used by the ancient Greeks), or paper (made from plant fibers, invented by the Chinese). Manuscripts of this kind lasted to the 16th century and beyond. Turning the manuscript into a book required several developments.\\n\\nThe codex \\nThe Romans were the first people to put separate pieces of manuscript between covers, to form a codex. This was more convenient to handle and store than scrolls, but was not yet a book as we understand it.\\n\\nPrinting \\nScrolls and codices were written and copied by hand. The Chinese invented woodblock printing, where shapes are carved out of a block of wood, then ink is applied to the carved side, and the block is pressed onto paper. This woodcut method was slow because the symbols and pictures were made by cutting away the surrounding wood.\\n\\nJohannes Gutenberg was the first to invent a machine for printing, the printing press, in the 15th century. This involved more than just a press, it involved the production of movable metal type suitable for the machine process.\\n\\nInitially, the machines were slow, and needed a printer\\'s muscle to make them work. The Industrial Revolution brought steam power and later electrification.\\n\\nPaper and ink \\nPaper had been invented in China in the 8th century, but it was kept secret for a long time. In Europe hand-made paper was available from about 1450. It was cheaper than parchment but still expensive, and the early printing was a slow process. Therefore, books remained rare. In 1800 the first machines for making paper from wood pulp were invented. New kinds of inks were also invented for various purposes, and machines were driven by steam engines and later by electricity.\\n\\nThe common cheap supply of paper fed the faster printing machines, and books became cheaper. At the same time, in America, Britain and continental Europe, more people learnt to read. So, in the 19th century, many ordinary people could afford to buy books and could actually read them. Also in the 19th century came public libraries, so poorer people could get access to the best books.\\n\\nBinding \\nPrinting was done on large sheets of paper, which were then folded, guillotined (cut) and sewn into the covers. Bookbinding and all the other processes have been done by machines since the 19th century.\\n\\nNow \\nToday some of the technologies have been changed, especially those involving illustration and typography. However, books look much the same as they did, with more illustration in color, but basically the same. That is because experience has shown that readers need certain things for pleasurable reading. Graphic design and typography are the practical arts used to make books attractive and useful to readers.\\n\\nRelated pages \\n Author\\n Bible\\n Literature\\n Notebook\\n Page\\n Reading\\n\\nReferences\\n\\nOther websites \\n WikiHow article on How to read a Book\\n Google Book Search (Beta)\\n Bestseller list of all times \\n\\nBasic English 850 words\\n \\nHistory of printing'}\n"
     ]
    }
   ],
   "source": [
    "def iter_dataset(iterable_dataset):\n",
    "    for data in iterable_dataset:\n",
    "        return data\n",
    "\n",
    "print(iter_dataset(iterable_dataset))\n",
    "print(iter_dataset(iterable_dataset))"
   ]
  },
  {
   "cell_type": "code",
   "execution_count": 54,
   "metadata": {},
   "outputs": [
    {
     "name": "stdout",
     "output_type": "stream",
     "text": [
      "{'id': '68', 'url': 'https://simple.wikipedia.org/wiki/Black%20pudding', 'title': 'Black pudding', 'text': 'Black pudding is an English name for zwarte pudding.  It is food made by cooking down the blood of any mammal (usually pigs or cattle) with meat, fat or filler until it is thick enough to congeal (become firm or solid) when cooled.\\n\\nTypes of black pudding\\n\\nIn Great Britain, blood sausage is called  \"black pudding\". The ingredients include pig\\'s blood, suet, bread, barley and oatmeal. The most common kind of German Blutwurst is made from fatty pork meat, beef blood and filler such as barley. Though already cooked and \"ready to eat\" it is usually served warm.\\n\\nOther kinds of blood sausage include boudin noir (France), boudin rouge (Creole and Cajun) and morcilla (Spain).\\n\\nHistory\\nA legend says that blood sausage was invented in a bet between two Bavarian butchers drunk on the alcoholic drink absinthe during the 14th century. Homer\\'s Odyssey from Ancient Greece says that \"As when a man besides a great fire has filled a sausage with fat and blood and turns it this way and that and is very eager to get it quickly roasted...\".\\n\\nRelated pages\\nSausage\\n\\nSausage'}\n",
      "{'id': '69', 'url': 'https://simple.wikipedia.org/wiki/Boot%20device', 'title': 'Boot device', 'text': 'A boot device is used to start a computer.  It is named after a boot which fits on the foot.  The word bootstrap is also closely related, and means, to use something simpler to get something more complex to make itself work better. It comes from the English phrase \"pull yourself up by your own bootstraps.\"\\n\\nBefore a computer can operate normally, it must have operating system instructions that tell it how to perform basic functions.  A boot device loads the operating system into the memory of the computer. \\n\\nDevices that can boot a computer are usually boot disks or boot drives (normally a hard drive or Solid State Drive, but can be a floppy disk, flash drive or a CD). Some network computers use boot chips that get the operating system over a network. Web phones also use such chips to identify the user to the mobile phone network.  Boot card standards may let many users boot kiosk computers with full privacy and access to all application software they own. There are also boot boards or boot add-in cards that are more permanent than boot cards.\\n\\nSome people refer to the boot device as just a boot and non-boot devices as data devices, although it is not the computer but the operating system that cares about the difference between these.\\n\\nOrigin\\nThe boot in boot device is the same as booting (or starting up). This is short for bootstrapping, or to start with simple stuff and make complex stuff out of it.\\n\\nRelated pages\\nBooting\\n \\nsoftware\\nComputer hardware'}\n",
      "{'id': '70', 'url': 'https://simple.wikipedia.org/wiki/Boot', 'title': 'Boot', 'text': 'A boot is a type of footwear that protects the foot and ankle. Boots are higher and larger than shoes and sandals. Some boots are high enough to protect the calves (lower part of the leg) as well.  Some boots are held on with bootstraps or bootlaces.  Some also have spats or gaiters to keep water out.  Most have a very strong boot sole, the bottom part of a boot.\\n\\nTypes of boots \\n Rain boots (or rubber boots) are made from rubber or plastic. Rain boots protect a person\\'s feet from water and rain. People who work on fishing boats and farmers wear rubber boots to keep their feet dry. People who work in chemical factories wear rubber boots to protect their feet from dangerous chemicals.\\n\\n Winter boots are boots that keep a person\\'s feet warm in cold weather. People in cold countries such as Canada and Sweden wear winter boots during the cold season. Winter boots can be made from many different materials, such as leather, fabric, or plastic. Winter boots are insulated with wool or fur to keep the feet warm. Most winter boots also keep people\\'s feet dry.\\n\\n Work boots (or \"construction boots\") are designed for people who work in construction or factory jobs. Work boots often have a steel toe cover to protect the person\\'s toes. Work boots are usually made of strong leather, to protect the person\\'s foot from sharp objects or dangerous chemicals. Some work boots have a flat piece of steel in the sole to protect the foot from sharp nails. Many countries require construction workers to wear work boots when they are on a construction site.\\n\\n Fashion boots are boots that are worn for style than for protection. Usually the term is used for women\\'s boots. These kind of boots come in many heights, where the top ends at the ankle, the knee, or the thigh. The ones that are tall are usually closed by a zipper or can stretch for putting it on easily. This is because using shoe laces would take time for the taller types.\\n\\nOther websites \\n\\nBasic English 850 words\\nFootwear'}\n"
     ]
    }
   ],
   "source": [
    "for i, d in enumerate(dataset[\"train\"].__iter__()):\n",
    "    print(d)\n",
    "    if i == 2:\n",
    "        break"
   ]
  },
  {
   "cell_type": "code",
   "execution_count": 37,
   "metadata": {},
   "outputs": [
    {
     "name": "stdout",
     "output_type": "stream",
     "text": [
      "0) keys=dict_keys(['id', 'url', 'title', 'text']) len=32\n"
     ]
    }
   ],
   "source": [
    "g = dataset[\"train\"].iter(batch_size=32, drop_last_batch= False)\n",
    "for i, gi in enumerate(g):\n",
    "    break\n",
    "\n",
    "print(f\"{i}) keys={gi.keys()} len={len(gi['text'])}\")"
   ]
  },
  {
   "cell_type": "code",
   "execution_count": 39,
   "metadata": {},
   "outputs": [
    {
     "data": {
      "text/plain": [
       "'April is the fourth month of the year in the Julian and Gregorian calendars, and comes between March and May. It is one of four months to have 30 days.\\n\\nApril always begins on the same day of week as July, and additionally, January in leap years. April always ends on the same day of the week as December.\\n\\nApril\\'s flowers are the Sweet Pea and Daisy. Its birthstone is the diamond. The meaning of the diamond is innocence.\\n\\nThe Month \\n\\nApril comes between March and May, making it the fourth month of the year. It also comes first in the year out of the four months that have 30 days, as June, September and November are later in the year.\\n\\nApril begins on the same day of the week as July every year and on the same day of the week as January in leap years. April ends on the same day of the week as December every year, as each other\\'s last days are exactly 35 weeks (245 days) apart.\\n\\nIn common years, April starts on the same day of the week as October of the previous year, and in leap years, May of the previous year. In common years, April finishes on the same day of the week as July of the previous year, and in leap years, February and October of the previous year. In common years immediately after other common years, April starts on the same day of the week as January of the previous year, and in leap years and years immediately after that, April finishes on the same day of the week as January of the previous year.\\n\\nIn years immediately before common years, April starts on the same day of the week as September and December of the following year, and in years immediately before leap years, June of the following year. In years immediately before common years, April finishes on the same day of the week as September of the following year, and in years immediately before leap years, March and June of the following year.\\n\\nApril is a spring month in the Northern Hemisphere and an autumn/fall month in the Southern Hemisphere. In each hemisphere, it is the seasonal equivalent of October in the other.\\n\\nIt is unclear as to where April got its name. A common theory is that it comes from the Latin word \"aperire\", meaning \"to open\", referring to flowers opening in spring. Another theory is that the name could come from Aphrodite, the Greek goddess of love. It was originally the second month in the old Roman Calendar, before the start of the new year was put to January 1.\\n\\nQuite a few festivals are held in this month. In many Southeast Asian cultures, new year is celebrated in this month (including Songkran). In Western Christianity, Easter can be celebrated on a Sunday between March 22 and April 25. In Orthodox Christianity, it can fall between April 4 and May 8. At the end of the month, Central and Northern European cultures celebrate Walpurgis Night on April 30, marking the transition from winter into summer.\\n\\nApril in poetry \\nPoets use April to mean the end of winter. For example: April showers bring May flowers.\\n\\nEvents in April\\n\\nFixed Events \\n\\n April 1 - April Fools\\' Day\\n April 1 - Islamic Republic Day (Iran)\\n April 2 - International Children\\'s Book Day\\n April 2 - Thai Heritage and Conservation Day\\n April 2 - World Autism Awareness Day\\n April 2 - Malvinas Day (Argentina)\\n April 4 - Independence Day (Senegal)\\n April 4 - International Day for Landmine Awareness and Assistance\\n April 4 - Peace Day (Angola)\\n April 5 - End of Tax Year (United Kingdom)\\n April 6 - Tartan Day (Canada and United States)\\n April 6 - Chakri Day (Thailand)\\n April 7 - Day of Maternity and Beauty (Armenia)\\n April 7 - Genocide Memorial Day (Rwanda)\\n April 7 - World Health Day\\n April 7 - Women\\'s Day (Mozambique)\\n April 8 - Buddha\\'s Birthday (Buddhism)\\n April 9 - Martyrs\\' Day (Tunisia)\\n April 9 - Day of National Unity (Georgia)\\n April 9 - Day of the Finnish language\\n April 12 - Cosmonauts\\' Day (Russia), marking the day of Yuri Gagarin\\'s space flight\\n April 13 - Songkan (Laos), local New Year celebration\\n April 13 - Cambodian New Year\\n April 13 - Thomas Jefferson\\'s Birthday (United States)\\n April 14 - Southeast Asian New Year festivals, including Songkran\\n April 14 - Georgian language Day\\n April 14 - Youth Day (Angola)\\n April 14 - Ambedkar Tayanti (India)\\n April 14 - Pan-American Day\\n April 15 - Tax Day (United States)\\n April 15 - Kim Il-Sung\\'s Birthday (North Korea)\\n April 15 - Father Damien Day (Hawaii)\\n April 15 - Jackie Robinson Day (Major League Baseball)\\n April 16 - Birthday of Queen Margrethe II of Denmark\\n April 16 - Emancipation Day (Washington, DC)\\n April 16 - World Voice Day\\n April 16 - Selena Day (Texas)\\n April 17 - National Day of Syria\\n April 17 - Flag Day (American Samoa)\\n April 17 - Women\\'s Day (Gabon)\\n April 17 - World Hemophilia Day\\n April 18 - Independence Day (Zimbabwe)\\n April 18 - Invention Day (Japan)\\n April 18 - International Day of Monuments and Sites\\n April 19 - Bicycle Day\\n April 19 - Dutch-American Friendship Day\\n April 19 - Birthday of King Mswati III of Swaziland\\n April 19 - Patriots\\' Day (Massachusetts, Maine, Wisconsin)\\n April 20 - 4/20 in Cannabis Culture\\n April 21 - John Muir Day (California)\\n April 21 - San Jacinto Day (Texas)\\n April 21 - Kartini Day (Indonesia)\\n April 21 - National Tree Planting Day (Kenya)\\n April 21 - First Day of Ridran (Baha\\'i faith)\\n April 21 - Grounation Day (Rastafari movement)\\n April 22 - Earth Day\\n April 22 - Discovery Day (Brazil)\\n April 23 - Saint George\\'s Day, celebrating the patron saint of several countries, regions and cities (including England and Catalonia)\\n April 23 - World Book Day\\n April 23 - National Sovereignty and Children\\'s Day (Turkey)\\n April 24 - Democracy Day (Nepal)\\n April 24 - Genocide Day (Armenia)\\n April 24 - Republic Day (the Gambia)\\n April 25 - Australia and New Zealand celebrate ANZAC Day. ANZAC  means Australian and New Zealand Army Corps, and began in 1915.\\n April 25 - World DNA Day\\n April 25 - World Malaria Day\\n April 25 - Flag Day (Swaziland, Faroe Islands)\\n April 25 - Freedom Day (Portugal)\\n April 25 - Liberation Day (Italy)\\n April 25 - Army Day (North Korea)\\n April 26 - Union Day (Tanzania)\\n April 26 - Confederate Memorial Day (Texas, Florida)\\n April 27 - Independence Day (Sierra Leone and Togo)\\n April 27 - Freedom Day (South Africa)\\n April 27 - World Tapir Day\\n April 27 - King\\'s Day (Netherlands) from 2014, birthday of Willem-Alexander of the Netherlands\\n April 28 - Workers Memorial Day\\n April 28 - National Day (Sardinia)\\n April 28 - National Heroes Day (Barbados)\\n April 29 - Showa Day (Japan), birthday of Emperor Hirohito, who died in 1989\\n April 29 - International Dance Day\\n April 30 - Former Queen\\'s Day Holiday in the Netherlands (changed to King\\'s Day, April 27 in 2014), was the birthday of former Queen Juliana of the Netherlands\\n April 30 - Flag Day in Sweden (birthday of King Carl XVI Gustaf of Sweden)\\n April 30 - International Jazz Day\\n April 30 - Walpurgis Night (Central and Northern Europe)\\n\\nMoveable Events \\n\\n Easter-related events in Western Christianity:\\n Palm Sunday (between March 15 and April 18)\\n Maundy Thursday (between March 19 and April 22)\\n Good Friday (between March 20 and April 23)\\n Easter Sunday (between March 22 and April 25)\\n Easter Monday (between March 23 and April 26)\\n Eastern Orthodox Easter falls between April 4 and May 8.\\n Ascension Day (Western Christianity), falls between April 30 and June 3.\\n Jewish Passover - falls in the same week as Western Christianity\\'s Holy Week, which is the week leading up to Easter.\\n Mother\\'s Day (UK) falls between March 1 and April 4.\\n World Snooker Championship (late April, early May)\\n Horse racing - Grand National (UK), Kentucky Derby (United States)\\n Start of Daylight Saving Time - Clocks going forward one hour:\\n Most of Mexico\\n Morocco (Ramadan does not include Daylight Saving Time)\\n End of Daylight Saving Time - Clocks going back one hour:\\n Southeast Australia, and New Zealand\\n Chile\\n Marathon Events in the following cities:\\n Belgrade, Serbia\\n Boston, Massachusetts, United States\\n Brighton, United Kingdom\\n Enschede, Netherlands\\n London, United Kingdom\\n Madrid, Spain\\n Paris, France\\n Rotterdam, Netherlands\\n Utrecht, Netherlands\\n Zurich, Switzerland\\n\\nSelection of Historical Events \\n\\n April 1, 1918 - The Royal Air Force is founded.\\n April 1, 1976 - Apple Inc. is founded.\\n April 1, 1979 - The Islamic Republic of Iran is founded.\\n April 1, 1999 - The territory of Nunavut is created in Northern Canada.\\n April 1, 2001 - The Netherlands introduces same-sex marriage, as the first country to do so.\\n April 2, 1519 - Florida is sighted by a European for the first time.\\n April 2, 1930 - Haile Selassie becomes Emperor of Ethiopia.\\n April 2, 1982 - Start of the Falklands War, as Argentine forces land on the Falkland Islands.\\n April 2, 2005 - Pope John Paul II dies aged 84, after 26-and-a-half years as Pope.\\n April 3, 1973 - The first-ever mobile phone call is placed by Martin Cooper in New York City.\\n April 4, 1721 - Robert Walpole becomes the first Prime Minister of Great Britain.\\n April 4, 1841 - William Henry Harrison dies. He was President of the United States for 31 days, the shortest-ever time in office for a US President.\\n April 4, 1960 - Senegal becomes independent.\\n April 4, 1968 - Assassination of Martin Luther King, Jr. in Memphis, Tennessee.\\n April 5, 1722 - Jacob Roggeveen becomes the first European to land on Easter Island, landing there on Easter Sunday.\\n April 6, 1320 - Scotland\\'s independence is confirmed with the Declaration of Arbroath.\\n April 6, 1830 - The Mormon Church is founded.\\n April 6, 1909 - Robert Peary claims to have been first at the North Pole on this date.\\n April 7, 1994 - The Rwandan Genocide begins.\\n April 9, 1865 - American Civil War: Confederate forces under Robert E. Lee surrender to Union forces.\\n April 9, 1940 - World War II: Denmark and Norway are invaded by Nazi Germany.\\n April 9, 1989 - April 9 tragedy: In Tbilisi, Georgia, a peaceful demonstration for independence is broken up by the Soviet Army, killing 20 people. The country gains independence on this date exactly two years later.\\n April 10, 1815 - Mount Tambora in Indonesia erupts in a huge eruption, affecting the world\\'s climate for at least a year.\\n April 10, 2010 - A plane crash near Smolensk, Russia, kills several people who were important in Poland, including President Lech Kaczynski.\\n April 11, 1814 - Napoleon Bonaparte is exiled to the island of Elba.\\n April 11, 1954 - Said to have been the most boring day of the 20th century.\\n April 12, 1861 - The American Civil War begins at Fort Sumter, Charleston, South Carolina.\\n April 12, 1945 - US President Franklin D. Roosevelt dies, and Harry S. Truman replaces him.\\n April 12, 1961 - Yuri Gagarin becomes the first human to fly into space.\\n April 14, 1865 - US President Abraham Lincoln is shot dead at Ford\\'s Theatre by John Wilkes Booth. Lincoln dies the next day.\\n April 14, 2010 - Qinghai Province, China, is hit by an earthquake, killing tens of thousands of people.\\n April 14, 2010 - The eruption of Eyjafjallajokull in Iceland shuts down air traffic around Europe for a week, due to its ash cloud.\\n April 15, 1912 - The ship RMS Titanic sinks near Newfoundland after hitting an iceberg, resulting in the deaths of many of the people on board.\\n April 16, 1943 - Albert Hofmann discovers LSD\\'s effects.\\n April 17, 1946 - Syria gains full independence from France.\\n April 18, 1906 - 1906 San Francisco earthquake: San Francisco, California, is hit by a big earthquake, resulting in fires that destroy large parts of the city.\\n April 18, 1980 - Zimbabwe gains full independence.\\n April 19, 1897 - The first Boston Marathon is held.\\n April 19, 1971 - Sierra Leone becomes a republic.\\n April 19, 1993 - The siege of the Branch Davidians at Waco, Texas, ends in a fire that kills 82 people.\\n April 19, 1995 - Timothy McVeigh carries out the Oklahoma City bombing, killing 169 people.\\n April 19, 2005 - Joseph Alois Ratzinger becomes Pope Benedict XVI.\\n April 20, 1902 - Marie Curie and Pierre Curie refine Radium.\\n April 20, 2010 - Deepwater Horizon oil spill: A massive fire on the Deepwater Horizon drilling rig in the Gulf of Mexico kills 11 workers and causes a massive oil spill, the worst spill in US history.\\n April 21, 753 BC - Legendary founding date of Rome\\n April 21, 1509 - Henry VIII of England becomes King.\\n April 21, 1908 - Frederick Cook claims to have reached the North Pole on this date.\\n April 22, 1502 - Pedro Alvares Cabral becomes the first European to reach present-day Brazil.\\n April 22, 1970 - Earth Day is observed for the first time.\\n April 23, 1533 - The Church of England declares that Henry VIII of England and Catherine of Aragon are not married.\\n April 24, 1916 - The Easter Rising occurs in Dublin, Ireland.\\n April 24, 1990 - The Hubble Space Telescope is launched on the Space Shuttle Discovery.\\n April 25, 1915 - World War I: In Turkey, the Battle of Gallipoli begins, Australian, French, British and New Zealand forces land at Anzac cove.\\n April 25, 1974 - Portugal\\'s dictatorship is overthrown in a coup, in what is known as the Carnation Revolution.\\n April 26, 1937 - Spanish Civil War: German planes bomb the town of Guernica, Basque Country, later depicted in a painting by Pablo Picasso.\\n April 26, 1964 - Tanganyika and Zanzibar merge to form Tanzania.\\n April 26, 1986 - A reactor explosion occurs at the Chernobyl nuclear plant in present-day Ukraine, with radiation spreading around Europe and the world.\\n April 26/27, 1994 - South Africa holds its first free elections.\\n April 27, 1960 - Togo becomes independent from France.\\n April 27, 1961 - Sierra Leone becomes independent from the United Kingdom.\\n April 28, 1789 - Mutiny on the ship Bounty in the Pacific Ocean, lead by Fletcher Christian.\\n April 28, 1945 - Benito Mussolini is executed by Italian partisans.\\n April 28, 1947 - In Peru, Thor Heyerdahl starts his Kon-Tiki expedition aimed at proving his theory that the Polynesian settlers on the Pacific Ocean\\'s islands came from South America.\\n April 29, 1991 - A cyclone in Bangladesh kills an estimated 138,000 people.\\n April 29, 2011 - The wedding of Prince William, Duke of Cambridge and Catherine, Duchess of Cambridge is broadcast worldwide.\\n April 30, 1789 - George Washington becomes the first President of the United States.\\n April 30, 1803 - The United States purchases (buys) the Louisiana territory from France.\\n April 30, 1945 - Adolf Hitler commits suicide on the same day that the Soviet Army raises the Red Flag on Berlin\\'s Reichstag.\\n April 30, 1952 - The Diary of Anne Frank is published in English.\\n April 30, 1975 - The Vietnam War ends, as North Vietnamese forces take Saigon.\\n April 30, 1980 - Queen Juliana of the Netherlands abdicates the throne, and her daughter becomes Queen Beatrix of the Netherlands. Beatrix later also abdicates, on this day in 2013, in favor of her son, King Willem-Alexander of the Netherlands.\\n\\nTrivia \\n\\n In Western Christianity, there is a bigger likelihood of Easter falling in April than in March.\\n The months around April (March and May) both start with an \\'M\\' in the English language, with an \\'A\\' as the second letter.\\n In the English language, April is the first of three months in-a-row, along with May and June, that is also a female given name.\\n The astrological signs for April are Aries (March 21 to April 20) and Taurus (April 21 to May 20).\\n The sweet pea and daisy are the traditional birth flowers for April.\\n Birthstone for April is the Diamond.\\nApril 1 is the only day in April to start within the first quarter of the calendar year.\\n If the months of the year were arranged in alphabetical order in the English language, April would come first.\\n Six current European monarchs were born in April. They are King Philippe of Belgium (April 15), Queen Margrethe II of Denmark (April 16), Henri, Grand Duke of Luxembourg (April 16), Elizabeth II of the United Kingdom and Commonwealth realms (April 21), King Willem-Alexander of the Netherlands (April 27), and King Carl XVI Gustaf of Sweden (April 30).\\n\\nReferences'"
      ]
     },
     "execution_count": 39,
     "metadata": {},
     "output_type": "execute_result"
    }
   ],
   "source": [
    "gi[\"text\"][0]"
   ]
  },
  {
   "cell_type": "code",
   "execution_count": null,
   "metadata": {},
   "outputs": [],
   "source": []
  }
 ],
 "metadata": {
  "kernelspec": {
   "display_name": "streaming-pipeline-uKqZ9-R3-py3.10",
   "language": "python",
   "name": "python3"
  },
  "language_info": {
   "codemirror_mode": {
    "name": "ipython",
    "version": 3
   },
   "file_extension": ".py",
   "mimetype": "text/x-python",
   "name": "python",
   "nbconvert_exporter": "python",
   "pygments_lexer": "ipython3",
   "version": "3.10.14"
  }
 },
 "nbformat": 4,
 "nbformat_minor": 2
}
